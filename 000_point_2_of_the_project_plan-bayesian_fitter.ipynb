{
 "cells": [
  {
   "cell_type": "markdown",
   "metadata": {},
   "source": [
    "# Bayesian Inference for Accelerated Randomized Benchmarking"
   ]
  },
  {
   "cell_type": "code",
   "execution_count": 1,
   "metadata": {},
   "outputs": [],
   "source": [
    "#Import general libraries (needed for functions)\n",
    "import numpy as np\n",
    "import matplotlib.pyplot as plt\n",
    "from IPython import display\n",
    "from math import pi\n",
    "\n",
    "#Import Qiskit classes\n",
    "import qiskit\n",
    "from qiskit.tools.monitor import job_monitor\n",
    "from qiskit import Aer\n",
    "from qiskit.providers.aer.noise import NoiseModel\n",
    "from qiskit.providers.aer.noise.errors.standard_errors import depolarizing_error, thermal_relaxation_error\n",
    "from qiskit import  QuantumRegister, QuantumCircuit\n",
    "\n",
    "#Import the RB Functions\n",
    "import qiskit.ignis.verification.randomized_benchmarking as rb\n",
    "#import qiskit_experiments as qe\n",
    "#rb = qe.randomized_benchmarking\n",
    "\n",
    "import copy\n",
    "import time\n",
    "\n",
    "# import the bayesian packages\n",
    "import pymc3 as pm\n",
    "import arviz as az\n",
    "\n",
    "import bayesian_fitter as bf"
   ]
  },
  {
   "cell_type": "code",
   "execution_count": 2,
   "metadata": {},
   "outputs": [],
   "source": [
    "# initialize the Bayesian extension\n",
    "%config InlineBackend.figure_format = 'retina'\n",
    "# Initialize random number generator\n",
    "RANDOM_SEED = 8927\n",
    "np.random.seed(RANDOM_SEED)\n",
    "az.style.use(\"arviz-darkgrid\")"
   ]
  },
  {
   "cell_type": "markdown",
   "metadata": {},
   "source": [
    "## Parameters of the RB Run <a name='select_params_RB'></a>\n",
    "\n",
    "\n",
    "- **nseeds:** The number of seeds. For each seed you will get a separate list of output circuits in rb_circs.\n",
    "- **length_vector:** The length vector of Clifford lengths. Must be in ascending order. RB sequences of increasing length grow on top of the previous sequences.\n",
    "- **rb_pattern:** A list of the form [[i,j],[k],...] which will make simultaneous RB sequences where Qi,Qj are a 2-qubit RB sequence and Qk is a 1-qubit sequence, etc. The number of qubits is the sum of the entries. For 'regular' RB the qubit_pattern is just [[0]],[[0,1]].\n",
    "- **length_multiplier:** If this is an array it scales each rb_sequence by the multiplier.\n",
    "- **seed_offset:** What to start the seeds at (e.g. if we want to add more seeds later).\n",
    "- **align_cliffs:**  If true adds a barrier across all qubits in rb_pattern after each set of cliffords."
   ]
  },
  {
   "cell_type": "code",
   "execution_count": 3,
   "metadata": {
    "tags": [
     "BIRB"
    ]
   },
   "outputs": [],
   "source": [
    "RB_process = \"2_Q RB\" #\"3_Q RB\" # choice from \"2_Q RB\" or \"3_Q RB\"\n",
    "Gate_under_study = \"CX\"\n",
    "# \"2-3_Q RB\" not used in this demo\n",
    "if RB_process in [\"3_Q RB\",\"2-3_Q RB\"] : \n",
    "    #Number of qubits\n",
    "    nQ = 3\n",
    "    #There are 3 qubits: Q0,Q1,Q2.\n",
    "    #2Q RB on Q0,Q2 and 1Q RB on Q1\n",
    "    rb_pattern = [[1,2],[3]] # because 3 qubits\n",
    "    #Do three times as many 1Q Cliffords    \n",
    "    length_multiplier = [1,3]\n",
    "    #Interleaved Clifford gates (2-qubits and 1-qubit)\n",
    "    interleaved_gates = [['cx 0 1'],['x 2']]\n",
    "\n",
    "else:\n",
    "    #Number of qubits\n",
    "    nQ = 2\n",
    "    #There are 2 qubits: Q0,Q1.\n",
    "    #2Q RB Q0,Q1\n",
    "    rb_pattern = [[1,2]]\n",
    "    length_multiplier = 1\n",
    "    interleaved_gates = [['cx 0 1']]    "
   ]
  },
  {
   "cell_type": "code",
   "execution_count": 4,
   "metadata": {},
   "outputs": [],
   "source": [
    "#Number of Cliffords in the sequence (start, stop, steps)\n",
    "nCliffs = np.arange(1,200,20)\n",
    "\n",
    "#Number of seeds (random sequences)\n",
    "nseeds=8\n",
    "#retrieve_list=ibmq_belem_list\n",
    "#retrieve_list=ibmq_lima_list\n",
    "retrieve_list=[] # if you want a new runs on hardware or if no hardware\n",
    "if retrieve_list != []:\n",
    "    nseeds = len(retrieve_list)"
   ]
  },
  {
   "cell_type": "code",
   "execution_count": 5,
   "metadata": {
    "tags": [
     "BIRB"
    ]
   },
   "outputs": [
    {
     "data": {
      "text/html": [
       "<pre style=\"word-wrap: normal;white-space: pre;background: #fff0;line-height: 1.1;font-family: &quot;Courier New&quot;,Courier,monospace\">           \n",
       "q0_0: ──■──\n",
       "      ┌─┴─┐\n",
       "q0_1: ┤ X ├\n",
       "      └───┘</pre>"
      ],
      "text/plain": [
       "           \n",
       "q0_0: ──■──\n",
       "      ┌─┴─┐\n",
       "q0_1: ┤ X ├\n",
       "      └───┘"
      ]
     },
     "execution_count": 5,
     "metadata": {},
     "output_type": "execute_result"
    }
   ],
   "source": [
    "qregs_02 = QuantumRegister(2)\n",
    "circ_02 = QuantumCircuit(qregs_02, name='circ_02')\n",
    "\n",
    "#circ_02.h(qregs_02[1])\n",
    "#circ_02.cx(qregs_02[1], qregs_02[0])\n",
    "circ_02.cx(qregs_02[0], qregs_02[1])\n",
    "#circ_02.cx(qregs_02[1], qregs_02[0])\n",
    "#circ_02.h(qregs_02[1])\n",
    "circ_02.draw()"
   ]
  },
  {
   "cell_type": "code",
   "execution_count": 6,
   "metadata": {
    "tags": [
     "BIRB"
    ]
   },
   "outputs": [
    {
     "data": {
      "text/html": [
       "<pre style=\"word-wrap: normal;white-space: pre;background: #fff0;line-height: 1.1;font-family: &quot;Courier New&quot;,Courier,monospace\">      ┌───┐\n",
       "q1_0: ┤ X ├\n",
       "      └───┘</pre>"
      ],
      "text/plain": [
       "      ┌───┐\n",
       "q1_0: ┤ X ├\n",
       "      └───┘"
      ]
     },
     "execution_count": 6,
     "metadata": {},
     "output_type": "execute_result"
    }
   ],
   "source": [
    "qregs_1 = QuantumRegister(1)\n",
    "circ_1 = QuantumCircuit(qregs_1, name='circ_1')\n",
    "circ_1.x(qregs_1[0]) # booptrap! WIP!\n",
    "circ_1.draw()"
   ]
  },
  {
   "cell_type": "markdown",
   "metadata": {},
   "source": [
    "## Generate the RB sequences <a name='gen_RB_seq'></a>\n",
    "\n",
    "In order to generate the RB sequences **rb_circs**, which is a list of lists of quantum circuits, \n",
    "we run the function `rb.randomized_benchmarking_seq`.\n",
    "\n",
    "This function returns:\n",
    "\n",
    "- **rb_circs:** A list of lists of circuits for the rb sequences (separate list for each seed).\n",
    "- **xdata:** The Clifford lengths (with multiplier if applicable)."
   ]
  },
  {
   "cell_type": "code",
   "execution_count": 7,
   "metadata": {
    "tags": [
     "BIRB"
    ]
   },
   "outputs": [
    {
     "ename": "AttributeError",
     "evalue": "module 'qiskit_experiments.randomized_benchmarking' has no attribute 'randomized_benchmarking_seq'",
     "output_type": "error",
     "traceback": [
      "\u001b[0;31m---------------------------------------------------------------------------\u001b[0m",
      "\u001b[0;31mAttributeError\u001b[0m                            Traceback (most recent call last)",
      "\u001b[0;32m<ipython-input-7-555f81c55df8>\u001b[0m in \u001b[0;36m<module>\u001b[0;34m\u001b[0m\n\u001b[1;32m     10\u001b[0m \u001b[0;32mif\u001b[0m \u001b[0mRB_process\u001b[0m \u001b[0;34m==\u001b[0m \u001b[0;34m\"2_Q RB\"\u001b[0m\u001b[0;34m:\u001b[0m\u001b[0;34m\u001b[0m\u001b[0;34m\u001b[0m\u001b[0m\n\u001b[1;32m     11\u001b[0m      \u001b[0mrb_opts\u001b[0m\u001b[0;34m[\u001b[0m\u001b[0;34m'interleaved_elem'\u001b[0m\u001b[0;34m]\u001b[0m \u001b[0;34m=\u001b[0m \u001b[0;34m[\u001b[0m\u001b[0mcirc_02\u001b[0m\u001b[0;34m]\u001b[0m\u001b[0;34m\u001b[0m\u001b[0;34m\u001b[0m\u001b[0m\n\u001b[0;32m---> 12\u001b[0;31m \u001b[0mrb_original_circs\u001b[0m\u001b[0;34m,\u001b[0m \u001b[0mxdata\u001b[0m\u001b[0;34m,\u001b[0m \u001b[0mrb_interleaved_circs\u001b[0m \u001b[0;34m=\u001b[0m \u001b[0mrb\u001b[0m\u001b[0;34m.\u001b[0m\u001b[0mrandomized_benchmarking_seq\u001b[0m\u001b[0;34m(\u001b[0m\u001b[0;34m**\u001b[0m\u001b[0mrb_opts\u001b[0m\u001b[0;34m)\u001b[0m\u001b[0;34m\u001b[0m\u001b[0;34m\u001b[0m\u001b[0m\n\u001b[0m",
      "\u001b[0;31mAttributeError\u001b[0m: module 'qiskit_experiments.randomized_benchmarking' has no attribute 'randomized_benchmarking_seq'"
     ]
    }
   ],
   "source": [
    "rb_opts = {}\n",
    "rb_opts['rand_seed'] = 61946\n",
    "rb_opts['length_vector'] = nCliffs\n",
    "rb_opts['nseeds'] = nseeds\n",
    "rb_opts['rb_pattern'] = rb_pattern\n",
    "rb_opts['length_multiplier'] = length_multiplier\n",
    "#rb_opts['align_cliffs'] = True\n",
    "if RB_process in [\"3_Q RB\",\"2-3_Q RB\"]:\n",
    "    rb_opts['interleaved_elem'] = [circ_02, circ_1]\n",
    "if RB_process == \"2_Q RB\":\n",
    "     rb_opts['interleaved_elem'] = [circ_02]\n",
    "rb_original_circs, xdata, rb_interleaved_circs = rb.randomized_benchmarking_seq(**rb_opts)"
   ]
  },
  {
   "cell_type": "code",
   "execution_count": null,
   "metadata": {
    "tags": [
     "BIRB"
    ]
   },
   "outputs": [],
   "source": [
    "#Original RB circuits\n",
    "print (rb_original_circs[0][0])"
   ]
  },
  {
   "cell_type": "code",
   "execution_count": null,
   "metadata": {
    "tags": [
     "BIRB"
    ]
   },
   "outputs": [],
   "source": [
    "#Interleaved RB circuits\n",
    "print (rb_interleaved_circs[0][0])"
   ]
  },
  {
   "cell_type": "markdown",
   "metadata": {},
   "source": [
    "### Determine hardware for noise model simulation or real device experiment"
   ]
  },
  {
   "cell_type": "code",
   "execution_count": null,
   "metadata": {
    "tags": [
     "real"
    ]
   },
   "outputs": [],
   "source": [
    "from qiskit import IBMQ\n",
    "IBMQ.load_account()\n",
    "#provider = IBMQ.get_provider(hub='ibm-q')\n",
    "provider = IBMQ.get_provider(hub='ibm-q-internal', group='deployed', project='default')\n",
    "provider.backends()"
   ]
  },
  {
   "cell_type": "code",
   "execution_count": null,
   "metadata": {},
   "outputs": [],
   "source": [
    "basis_gates = ['id', 'rz', 'sx', 'x', 'cx', 'reset']\n",
    "shots = 2**10\n",
    "retrieve_list=[] # nothing to retrieve"
   ]
  },
  {
   "cell_type": "code",
   "execution_count": null,
   "metadata": {
    "tags": [
     "real"
    ]
   },
   "outputs": [],
   "source": [
    "device = provider.get_backend('ibmq_santiago') # type here hardware backend\n",
    "hardware = device.name()\n",
    "properties = device.properties()\n",
    "coupling_map = device.configuration().coupling_map\n",
    "backend = device\n",
    "noise_model = None"
   ]
  },
  {
   "cell_type": "code",
   "execution_count": null,
   "metadata": {},
   "outputs": [],
   "source": [
    "# use a noise model corresponding to the chosen real device backend\n",
    "#hardware = device.name() \n",
    "#backend = Aer.get_backend('qasm_simulator')\n",
    "#noise_model = NoiseModel.from_backend(properties)"
   ]
  },
  {
   "cell_type": "markdown",
   "metadata": {},
   "source": [
    " # Execute the RB sequences"
   ]
  },
  {
   "cell_type": "code",
   "execution_count": null,
   "metadata": {},
   "outputs": [],
   "source": [
    "original_result_list, original_transpile_list = bf.get_and_run_seeds(rb_circs=rb_original_circs,\n",
    "                                               shots=shots,\n",
    "                                               backend = backend,\n",
    "                                               coupling_map = coupling_map,\n",
    "                                               basis_gates = basis_gates,\n",
    "                                               noise_model = noise_model,\n",
    "                                               retrieve_list=retrieve_list)                                                "
   ]
  },
  {
   "cell_type": "code",
   "execution_count": null,
   "metadata": {
    "tags": [
     "BIRB"
    ]
   },
   "outputs": [],
   "source": [
    "interleaved_result_list, interleaved_transpile_list = bf.get_and_run_seeds(rb_circs=rb_interleaved_circs,\n",
    "                                               shots=shots,\n",
    "                                               backend = backend,\n",
    "                                               coupling_map = coupling_map,\n",
    "                                               basis_gates = basis_gates,\n",
    "                                               noise_model = noise_model,\n",
    "                                               retrieve_list=retrieve_list)                                                "
   ]
  },
  {
   "cell_type": "markdown",
   "metadata": {},
   "source": [
    "### Calculate the interleaved gate error fidelity\n",
    "\n",
    "From the values of $\\alpha$ and $\\alpha_C$ we obtain the gate error of the interleaved Clifford $c$, and $r_C=1-$(average gate fidelity of the interleaved Clifford $C$), is estimated by:\n",
    "$$ EPC^{est} = r_C^{est} = \\frac{(2^n-1)(1-\\alpha/\\alpha_C)}{2^n}$$\n",
    "and must lie in the range given by certain systematic error bounds: \n",
    "$$[r_C^{est}-E,r_C^{est}+E]$$ \n",
    "for each of the patterns."
   ]
  },
  {
   "cell_type": "code",
   "execution_count": null,
   "metadata": {
    "tags": [
     "BIRB"
    ]
   },
   "outputs": [],
   "source": [
    "###### Create the original and interleaved RB fitter\n",
    "original_rb_fit = rb.RBFitter(original_result_list, xdata, rb_opts['rb_pattern'])\n",
    "interleaved_rb_fit = rb.RBFitter(interleaved_result_list, xdata, rb_opts['rb_pattern'])"
   ]
  },
  {
   "cell_type": "markdown",
   "metadata": {
    "tags": [
     "BIRB"
    ]
   },
   "source": [
    "###### mkd\n",
    "alpha_f = original_rb_fit._fit[0]['params'][1] \n",
    "alphC_f =  interleaved_rb_fit._fit[0]['params'][1] \n",
    "alpha_f_err = original_rb_fit._fit[0]['params_err'][1] \n",
    "alphC_f_err =  interleaved_rb_fit._fit[0]['params_err'][1] \n",
    "epc_est_f = 3*(1 - alphC_f/alpha_f)/4\n",
    "epc_est_f_err = 3*(alphC_f/alpha_f)/4*(np.sqrt(alpha_f_err**2 + alphC_f_err**2))"
   ]
  },
  {
   "cell_type": "code",
   "execution_count": null,
   "metadata": {
    "tags": [
     "BIRB"
    ]
   },
   "outputs": [],
   "source": [
    "#Calculate the joint fitter\n",
    "joint_rb_fit = rb.InterleavedRBFitter(original_result_list, interleaved_result_list, xdata, rb_opts['rb_pattern'])"
   ]
  },
  {
   "cell_type": "markdown",
   "metadata": {},
   "source": [
    "##  Bayesian inference\n",
    "\n",
    "###  Accelerated RB\n",
    "\n",
    "model: [equation 5 in this paper](https://arxiv.org/abs/1404.5275) "
   ]
  },
  {
   "cell_type": "code",
   "execution_count": null,
   "metadata": {
    "scrolled": true
   },
   "outputs": [],
   "source": [
    "m_gates, Y1, alpha_ref, alpha_lower, alpha_upper, mu_AB, cov_AB, sigma_theta =\\\n",
    "    bf.obtain_priors_and_data_from_fitter(rbfit = original_rb_fit, nCliffs=nCliffs, shots=shots, printout = False) \n",
    "_, Y2, _, _, _, _, _, _ =\\\n",
    "    bf.obtain_priors_and_data_from_fitter(rbfit = interleaved_rb_fit, nCliffs=nCliffs, shots=shots, printout = False)\n",
    "\n",
    "Y = np.vstack((Y1,Y2))\n",
    "RvsI = np.vstack((np.ones_like(Y1),np.zeros_like(Y2)))\n",
    "IvsR = np.vstack((np.zeros_like(Y1),np.ones_like(Y2)))\n",
    "\n",
    "tilde = bf.get_bayesian_model(\"tilde\",Y=Y,shots=shots,m_gates=m_gates, alpha_ref=alpha_ref, mu_AB=mu_AB,cov_AB=cov_AB,RvsI=RvsI,IvsR=IvsR)\n",
    "pm.model_to_graphviz(tilde)"
   ]
  },
  {
   "cell_type": "code",
   "execution_count": null,
   "metadata": {},
   "outputs": [],
   "source": [
    "trace_t = bf.get_trace(tilde)"
   ]
  },
  {
   "cell_type": "code",
   "execution_count": null,
   "metadata": {},
   "outputs": [],
   "source": [
    "azt_summary = bf.get_summary(tilde, trace_t)\n",
    "azt_summary"
   ]
  },
  {
   "cell_type": "markdown",
   "metadata": {},
   "source": [
    "# Final comparison"
   ]
  },
  {
   "cell_type": "code",
   "execution_count": null,
   "metadata": {},
   "outputs": [],
   "source": [
    "# for refering the interleaved gate in the title of the graphs\n",
    "intl_g=str(interleaved_gates[0][0][0:2])+str(rb_pattern[0][0:2])\n",
    "if RB_process in [\"3_Q RB\",\"2-3_Q RB\"] :\n",
    "    intl_g=intl_g+\"<\"+str(interleaved_gates[1][0][0:1]+str(rb_pattern[1][0:2]))"
   ]
  },
  {
   "cell_type": "code",
   "execution_count": null,
   "metadata": {},
   "outputs": [],
   "source": [
    "# calibration made april 21, 2021 , 12AM \n",
    "epc_calib = 5.453E-3 # enter here the read calibration error of the device, 0.0 if None WIP\n",
    "\n",
    "epc_est_fitter = joint_rb_fit.fit_int[0][\"epc_est\"]\n",
    "epc_est_fitter_err = joint_rb_fit.fit_int[0][\"epc_est_err\"]\n",
    "\n",
    "epc_est_a =3/4*(1 - azt_summary['mean']['p_tilde'])\n",
    "epc_est_a_err = 3/4* (azt_summary['sd']['p_tilde'])\n",
    "\n",
    "print(\"      fitter   2xpooled  calibration\")\n",
    "print(\"EPC   {0:.5f}  {1:.5f}   {2:.5f} \".format(epc_est_fitter,  epc_est_a, epc_calib))\n",
    "print(\"ERROR {0:.5f}  {1:.5f}      --- \".format(epc_est_fitter_err, epc_est_a_err))"
   ]
  },
  {
   "cell_type": "code",
   "execution_count": null,
   "metadata": {},
   "outputs": [],
   "source": [
    "import matplotlib.pyplot as plt # seems we need to reimport for replot WIP\n",
    "\n",
    "with tilde:\n",
    "        ax = az.plot_posterior(trace_t,  var_names=['p_tilde'], round_to=4, point_estimate=None, \n",
    "                          transform =  bf.alpha_to_EPC)\n",
    "        ax.set_xlim(0.002, 0.008)\n",
    "        plt.axvline(x=epc_est_fitter,color='red',ls=\"--\")\n",
    "        if epc_calib > 0.0:\n",
    "            plt.axvline(x=epc_calib,color='green',ls=\"--\")\n",
    "        plt.axvline(x=epc_est_a,color='blue',ls=\"--\")\n",
    "        plt.title(RB_process + ' \\\"' + Gate_under_study + '\\\" $accelerated$, gate: ' + intl_g\\\n",
    "                  +\", \"+hardware+', backend: '+backend.name(),\n",
    "               fontsize=12)\n",
    "        Bayes_legend =\"EPC Bayes {0:1.3e} ({1:1.3e})\".format(epc_est_a, epc_est_a_err)\n",
    "        Fitter_legend =\"EPC L.S. {0:1.3e} ({1:1.3e})\".format(epc_est_fitter, epc_est_fitter_err)                                                        \n",
    "        Cal_legend =\"EPC Calibration {0:1.3e}\".format(epc_calib)\n",
    "        if epc_calib > 0.0:\n",
    "            plt.legend((Bayes_legend, \"$Higher\\; density\\; interval$ HDI\",\n",
    "                        Fitter_legend,Cal_legend), fontsize=10 )\n",
    "        else: \n",
    "            plt.legend((Bayes_legend, \"$Higher\\; density\\; interval$ HDI\",\n",
    "                        Fitter_legend), fontsize=10 )"
   ]
  },
  {
   "cell_type": "code",
   "execution_count": null,
   "metadata": {},
   "outputs": [],
   "source": [
    "import matplotlib.pyplot as plt # seems we need to reimport for replot WIP\n",
    "\n",
    "#fig, plt = plt.subplots(1, 1, sharex=True, figsize=(10, 6))\n",
    "fig, plt = plt.subplots(1, 1, sharex=True, figsize=(10, 6))\n",
    "\n",
    "plt.set_ylabel(\"Population of |00>\")\n",
    "plt.set_xlabel(\"Number of Cliffords\")\n",
    "\n",
    "for i_seed in range(nseeds):\n",
    "    plt.scatter(m_gates, Y1[i_seed,:]/shots, label = \"data\", marker=\"x\",color=\"b\")\n",
    "    plt.scatter(m_gates, Y2[i_seed,:]/shots, label = \"data\", marker=\"+\",color=\"r\")\n",
    "plt.plot(m_gates,azt_summary['mean']['AB[0]']*azt_summary['mean']['alpha']**m_gates+\\\n",
    "          azt_summary['mean']['AB[1]'],'--',color=\"b\")\n",
    "plt.plot(m_gates,azt_summary['mean']['AB[0]']*(azt_summary['mean']['alpha']*azt_summary['mean']['p_tilde'])**\\\n",
    "          m_gates+azt_summary['mean']['AB[1]'],'--',color=\"r\")\n",
    "\n",
    "plt.legend((\"Reference\",\n",
    "             \"Interleaved\"))\n",
    "\n",
    "plt.set_title(RB_process + ' \\\"' + Gate_under_study + '\\\" $accelerated$, gate: ' + intl_g\\\n",
    "                  +\", \"+hardware+', backend: '+backend.name(),\n",
    "               fontsize=14)"
   ]
  },
  {
   "cell_type": "code",
   "execution_count": null,
   "metadata": {
    "ExecuteTime": {
     "end_time": "2019-12-10T21:51:14.059488Z",
     "start_time": "2019-12-10T21:51:13.949841Z"
    }
   },
   "outputs": [],
   "source": [
    "import qiskit.tools.jupyter\n",
    "%qiskit_version_table\n",
    "%qiskit_copyright"
   ]
  },
  {
   "cell_type": "code",
   "execution_count": null,
   "metadata": {},
   "outputs": [],
   "source": [
    "%load_ext watermark\n",
    "%watermark -n -u -v -iv -w"
   ]
  },
  {
   "cell_type": "code",
   "execution_count": null,
   "metadata": {},
   "outputs": [],
   "source": []
  }
 ],
 "metadata": {
  "celltoolbar": "Tags",
  "kernelspec": {
   "display_name": "Python 3",
   "language": "python",
   "name": "python3"
  },
  "language_info": {
   "codemirror_mode": {
    "name": "ipython",
    "version": 3
   },
   "file_extension": ".py",
   "mimetype": "text/x-python",
   "name": "python",
   "nbconvert_exporter": "python",
   "pygments_lexer": "ipython3",
   "version": "3.8.5"
  },
  "varInspector": {
   "cols": {
    "lenName": 16,
    "lenType": 16,
    "lenVar": 40
   },
   "kernels_config": {
    "python": {
     "delete_cmd_postfix": "",
     "delete_cmd_prefix": "del ",
     "library": "var_list.py",
     "varRefreshCmd": "print(var_dic_list())"
    },
    "r": {
     "delete_cmd_postfix": ") ",
     "delete_cmd_prefix": "rm(",
     "library": "var_list.r",
     "varRefreshCmd": "cat(var_dic_list()) "
    }
   },
   "types_to_exclude": [
    "module",
    "function",
    "builtin_function_or_method",
    "instance",
    "_Feature"
   ],
   "window_display": false
  }
 },
 "nbformat": 4,
 "nbformat_minor": 2
}
